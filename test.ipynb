{
 "cells": [
  {
   "cell_type": "code",
   "execution_count": 21,
   "metadata": {},
   "outputs": [],
   "source": [
    "from datasets import load_dataset\n",
    "import pandas as pd\n",
    "import numpy as np\n",
    "import en_core_web_sm"
   ]
  },
  {
   "cell_type": "code",
   "execution_count": 3,
   "metadata": {},
   "outputs": [],
   "source": [
    "nlp = en_core_web_sm.load()\n",
    "# stats_cal(datasets_test)\n"
   ]
  },
  {
   "cell_type": "code",
   "execution_count": 22,
   "metadata": {},
   "outputs": [
    {
     "name": "stdout",
     "output_type": "stream",
     "text": [
      "Downloading and preparing dataset wiki_lingua/english (download: 322.38 MiB, generated: 318.24 MiB, post-processed: Unknown size, total: 640.62 MiB) to /home/jli/working_dir/datasets_cache/wiki_lingua/english/1.1.1/dad5f0710d1bb1a2ed1eb7633802fe147ebd27a3812985f5641bb7aca6ba5c08...\n"
     ]
    },
    {
     "data": {
      "application/vnd.jupyter.widget-view+json": {
       "model_id": "1ce6a7f7817c4e748938a5131df1c8ea",
       "version_major": 2,
       "version_minor": 0
      },
      "text/plain": [
       "Downloading data:   0%|          | 0.00/338M [00:00<?, ?B/s]"
      ]
     },
     "metadata": {},
     "output_type": "display_data"
    },
    {
     "data": {
      "application/vnd.jupyter.widget-view+json": {
       "model_id": "3d40904bb91240c2bf3aa4449bf9e308",
       "version_major": 2,
       "version_minor": 0
      },
      "text/plain": [
       "Generating train split:   0%|          | 0/57945 [00:00<?, ? examples/s]"
      ]
     },
     "metadata": {},
     "output_type": "display_data"
    },
    {
     "name": "stdout",
     "output_type": "stream",
     "text": [
      "Dataset wiki_lingua downloaded and prepared to /home/jli/working_dir/datasets_cache/wiki_lingua/english/1.1.1/dad5f0710d1bb1a2ed1eb7633802fe147ebd27a3812985f5641bb7aca6ba5c08. Subsequent calls will reuse this data.\n"
     ]
    }
   ],
   "source": [
    "# # load cnn_dailymail\n",
    "# datasets_train = load_dataset(\"cnn_dailymail\", \"3.0.0\", split=\"train\")\n",
    "# datasets_test = load_dataset(\"cnn_dailymail\", \"3.0.0\", split=\"test\")\n",
    "# datasets_valid = load_dataset(\"cnn_dailymail\", \"3.0.0\", split=\"validation\")\n",
    "# # load xsum\n",
    "# xsum_train = load_dataset(\"xsum\", \"1.2.0\", split=\"train\")\n",
    "# xsum_test = load_dataset(\"xsum\", \"1.2.0\", split=\"test\")\n",
    "# xsum_valid = load_dataset(\"xsum\", \"1.2.0\", split=\"validation\")\n",
    "\n",
    "# load wiki_lingua English\n",
    "wiki_lingua_train = load_dataset(\"wiki_lingua\", \"english\", split=\"train\")\n",
    "\n",
    "# # load scitldr\n",
    "# scitldr_train = load_dataset(\"scitldr\", \"Abstract\", split=\"train\")\n",
    "# scitldr_test = load_dataset(\"scitldr\", \"Abstract\", split=\"test\")\n",
    "# scitldr_valid = load_dataset(\"scitldr\", \"Abstract\", split=\"validation\")\n",
    "\n",
    "# # load billsum\n",
    "# billsum_train = load_dataset(\"billsum\", \"3.0.0\", split=\"train\")\n",
    "# billsum_test = load_dataset(\"billsum\", \"3.0.0\", split=\"test\")\n",
    "# billsum_valid = load_dataset(\"billsum\", \"3.0.0\", split=\"ca_test\")"
   ]
  },
  {
   "cell_type": "code",
   "execution_count": 23,
   "metadata": {},
   "outputs": [],
   "source": [
    "df = pd.DataFrame(wiki_lingua_train[\"article\"])"
   ]
  },
  {
   "cell_type": "code",
   "execution_count": 24,
   "metadata": {},
   "outputs": [],
   "source": [
    "df[\"url\"] = pd.DataFrame(wiki_lingua_train[\"url\"])"
   ]
  },
  {
   "cell_type": "code",
   "execution_count": 25,
   "metadata": {},
   "outputs": [],
   "source": [
    "df.document = df.document.str.join(\"\")\n",
    "df.summary = df.summary.str.join(\"\")"
   ]
  },
  {
   "cell_type": "code",
   "execution_count": 26,
   "metadata": {},
   "outputs": [],
   "source": [
    "df.replace(to_replace=r'^\\s*$',value=np.nan,regex=True,inplace=True)"
   ]
  },
  {
   "cell_type": "code",
   "execution_count": 28,
   "metadata": {},
   "outputs": [
    {
     "data": {
      "text/plain": [
       "section_name        0\n",
       "document        10685\n",
       "summary         10678\n",
       "url                 0\n",
       "dtype: int64"
      ]
     },
     "execution_count": 28,
     "metadata": {},
     "output_type": "execute_result"
    }
   ],
   "source": [
    "df.isnull().sum()"
   ]
  },
  {
   "cell_type": "code",
   "execution_count": 18,
   "metadata": {},
   "outputs": [
    {
     "data": {
      "text/html": [
       "<div>\n",
       "<style scoped>\n",
       "    .dataframe tbody tr th:only-of-type {\n",
       "        vertical-align: middle;\n",
       "    }\n",
       "\n",
       "    .dataframe tbody tr th {\n",
       "        vertical-align: top;\n",
       "    }\n",
       "\n",
       "    .dataframe thead th {\n",
       "        text-align: right;\n",
       "    }\n",
       "</style>\n",
       "<table border=\"1\" class=\"dataframe\">\n",
       "  <thead>\n",
       "    <tr style=\"text-align: right;\">\n",
       "      <th></th>\n",
       "      <th>section_name</th>\n",
       "      <th>document</th>\n",
       "      <th>summary</th>\n",
       "      <th>url</th>\n",
       "    </tr>\n",
       "  </thead>\n",
       "  <tbody>\n",
       "    <tr>\n",
       "      <th>14</th>\n",
       "      <td>[]</td>\n",
       "      <td>NaN</td>\n",
       "      <td>NaN</td>\n",
       "      <td>https://www.wikihow.com/Flick-a-Card</td>\n",
       "    </tr>\n",
       "    <tr>\n",
       "      <th>14</th>\n",
       "      <td>[]</td>\n",
       "      <td>NaN</td>\n",
       "      <td>NaN</td>\n",
       "      <td>https://www.wikihow.com/Flick-a-Card</td>\n",
       "    </tr>\n",
       "    <tr>\n",
       "      <th>15</th>\n",
       "      <td>[]</td>\n",
       "      <td>NaN</td>\n",
       "      <td>NaN</td>\n",
       "      <td>https://www.wikihow.com/Replace-a-Flat-Roof</td>\n",
       "    </tr>\n",
       "    <tr>\n",
       "      <th>15</th>\n",
       "      <td>[]</td>\n",
       "      <td>NaN</td>\n",
       "      <td>NaN</td>\n",
       "      <td>https://www.wikihow.com/Replace-a-Flat-Roof</td>\n",
       "    </tr>\n",
       "    <tr>\n",
       "      <th>21</th>\n",
       "      <td>[]</td>\n",
       "      <td>NaN</td>\n",
       "      <td>NaN</td>\n",
       "      <td>https://www.wikihow.com/Create-and-Work-a-Juxl...</td>\n",
       "    </tr>\n",
       "    <tr>\n",
       "      <th>...</th>\n",
       "      <td>...</td>\n",
       "      <td>...</td>\n",
       "      <td>...</td>\n",
       "      <td>...</td>\n",
       "    </tr>\n",
       "    <tr>\n",
       "      <th>57900</th>\n",
       "      <td>[]</td>\n",
       "      <td>NaN</td>\n",
       "      <td>NaN</td>\n",
       "      <td>https://www.wikihow.com/Make-the-Most-of-Your-...</td>\n",
       "    </tr>\n",
       "    <tr>\n",
       "      <th>57918</th>\n",
       "      <td>[]</td>\n",
       "      <td>NaN</td>\n",
       "      <td>NaN</td>\n",
       "      <td>https://www.wikihow.com/Use-Extended-Desktop-V...</td>\n",
       "    </tr>\n",
       "    <tr>\n",
       "      <th>57918</th>\n",
       "      <td>[]</td>\n",
       "      <td>NaN</td>\n",
       "      <td>NaN</td>\n",
       "      <td>https://www.wikihow.com/Use-Extended-Desktop-V...</td>\n",
       "    </tr>\n",
       "    <tr>\n",
       "      <th>57924</th>\n",
       "      <td>[]</td>\n",
       "      <td>NaN</td>\n",
       "      <td>NaN</td>\n",
       "      <td>https://www.wikihow.com/Kill-Household-Pests-(...</td>\n",
       "    </tr>\n",
       "    <tr>\n",
       "      <th>57924</th>\n",
       "      <td>[]</td>\n",
       "      <td>NaN</td>\n",
       "      <td>NaN</td>\n",
       "      <td>https://www.wikihow.com/Kill-Household-Pests-(...</td>\n",
       "    </tr>\n",
       "  </tbody>\n",
       "</table>\n",
       "<p>21363 rows × 4 columns</p>\n",
       "</div>"
      ],
      "text/plain": [
       "      section_name document summary  \\\n",
       "14              []      NaN     NaN   \n",
       "14              []      NaN     NaN   \n",
       "15              []      NaN     NaN   \n",
       "15              []      NaN     NaN   \n",
       "21              []      NaN     NaN   \n",
       "...            ...      ...     ...   \n",
       "57900           []      NaN     NaN   \n",
       "57918           []      NaN     NaN   \n",
       "57918           []      NaN     NaN   \n",
       "57924           []      NaN     NaN   \n",
       "57924           []      NaN     NaN   \n",
       "\n",
       "                                                     url  \n",
       "14                  https://www.wikihow.com/Flick-a-Card  \n",
       "14                  https://www.wikihow.com/Flick-a-Card  \n",
       "15           https://www.wikihow.com/Replace-a-Flat-Roof  \n",
       "15           https://www.wikihow.com/Replace-a-Flat-Roof  \n",
       "21     https://www.wikihow.com/Create-and-Work-a-Juxl...  \n",
       "...                                                  ...  \n",
       "57900  https://www.wikihow.com/Make-the-Most-of-Your-...  \n",
       "57918  https://www.wikihow.com/Use-Extended-Desktop-V...  \n",
       "57918  https://www.wikihow.com/Use-Extended-Desktop-V...  \n",
       "57924  https://www.wikihow.com/Kill-Household-Pests-(...  \n",
       "57924  https://www.wikihow.com/Kill-Household-Pests-(...  \n",
       "\n",
       "[21363 rows x 4 columns]"
      ]
     },
     "execution_count": 18,
     "metadata": {},
     "output_type": "execute_result"
    }
   ],
   "source": [
    "df[df.isnull().values == True]"
   ]
  },
  {
   "cell_type": "code",
   "execution_count": 20,
   "metadata": {},
   "outputs": [
    {
     "data": {
      "text/plain": [
       "'https://www.wikihow.com/Calculate-Annualized-Portfolio-Return'"
      ]
     },
     "execution_count": 20,
     "metadata": {},
     "output_type": "execute_result"
    }
   ],
   "source": [
    "wiki_lingua_train[\"url\"][2]\n"
   ]
  },
  {
   "cell_type": "code",
   "execution_count": 7,
   "metadata": {},
   "outputs": [
    {
     "data": {
      "text/plain": [
       "{'section_name': [], 'document': [], 'summary': []}"
      ]
     },
     "execution_count": 7,
     "metadata": {},
     "output_type": "execute_result"
    }
   ],
   "source": [
    "wiki_lingua_train[\"article\"][14]"
   ]
  },
  {
   "cell_type": "code",
   "execution_count": null,
   "metadata": {},
   "outputs": [],
   "source": [
    "def rename_datasets(dataset):\n",
    "    dataset = dataset.rename_column(dataset.column_names[0],\"source\")\n",
    "    dataset = dataset.rename_column(dataset.column_names[1],\"target\")\n",
    "    return dataset"
   ]
  },
  {
   "cell_type": "code",
   "execution_count": null,
   "metadata": {},
   "outputs": [],
   "source": []
  }
 ],
 "metadata": {
  "interpreter": {
   "hash": "00b683f7247be56873f76d0b0d257e8fa6bb4a1e3e68fabe0e16b66c988ff868"
  },
  "kernelspec": {
   "display_name": "Python 3.7.6 ('base')",
   "language": "python",
   "name": "python3"
  },
  "language_info": {
   "codemirror_mode": {
    "name": "ipython",
    "version": 3
   },
   "file_extension": ".py",
   "mimetype": "text/x-python",
   "name": "python",
   "nbconvert_exporter": "python",
   "pygments_lexer": "ipython3",
   "version": "3.7.6"
  },
  "orig_nbformat": 4
 },
 "nbformat": 4,
 "nbformat_minor": 2
}
